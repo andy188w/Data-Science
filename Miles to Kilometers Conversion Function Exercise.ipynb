{
 "cells": [
  {
   "cell_type": "code",
   "execution_count": 1,
   "id": "86c3270d",
   "metadata": {},
   "outputs": [],
   "source": [
    "# function for converting miles to kilometers\n",
    "def convert(m):\n",
    "    km = 1.6 * m\n",
    "    return km"
   ]
  },
  {
   "cell_type": "code",
   "execution_count": 2,
   "id": "7b65a0bb",
   "metadata": {},
   "outputs": [
    {
     "data": {
      "text/plain": [
       "65.60000000000001"
      ]
     },
     "execution_count": 2,
     "metadata": {},
     "output_type": "execute_result"
    }
   ],
   "source": [
    "convert(41)"
   ]
  },
  {
   "cell_type": "code",
   "execution_count": 3,
   "id": "75d921a3",
   "metadata": {},
   "outputs": [
    {
     "name": "stdout",
     "output_type": "stream",
     "text": [
      "3.3600000000000003\n"
     ]
    }
   ],
   "source": [
    "print(convert(2.1))"
   ]
  },
  {
   "cell_type": "code",
   "execution_count": null,
   "id": "525eb466",
   "metadata": {},
   "outputs": [],
   "source": []
  }
 ],
 "metadata": {
  "kernelspec": {
   "display_name": "Python 3 (ipykernel)",
   "language": "python",
   "name": "python3"
  },
  "language_info": {
   "codemirror_mode": {
    "name": "ipython",
    "version": 3
   },
   "file_extension": ".py",
   "mimetype": "text/x-python",
   "name": "python",
   "nbconvert_exporter": "python",
   "pygments_lexer": "ipython3",
   "version": "3.10.9"
  }
 },
 "nbformat": 4,
 "nbformat_minor": 5
}
