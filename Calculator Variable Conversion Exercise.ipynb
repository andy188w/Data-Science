{
 "cells": [
  {
   "cell_type": "code",
   "execution_count": 3,
   "id": "bb11c2f0",
   "metadata": {},
   "outputs": [
    {
     "name": "stdout",
     "output_type": "stream",
     "text": [
      "First #: 21.4\n",
      "Second #: 74.8\n",
      "Sum: 96.19999999999999\n"
     ]
    }
   ],
   "source": [
    "first = input(\"First #: \")\n",
    "second = input(\"Second #: \")\n",
    "sum = float(first) + float(second)\n",
    "print(\"Sum: \" + str(sum))"
   ]
  },
  {
   "cell_type": "code",
   "execution_count": null,
   "id": "44c8001a",
   "metadata": {},
   "outputs": [],
   "source": []
  }
 ],
 "metadata": {
  "kernelspec": {
   "display_name": "Python 3 (ipykernel)",
   "language": "python",
   "name": "python3"
  },
  "language_info": {
   "codemirror_mode": {
    "name": "ipython",
    "version": 3
   },
   "file_extension": ".py",
   "mimetype": "text/x-python",
   "name": "python",
   "nbconvert_exporter": "python",
   "pygments_lexer": "ipython3",
   "version": "3.10.9"
  }
 },
 "nbformat": 4,
 "nbformat_minor": 5
}
